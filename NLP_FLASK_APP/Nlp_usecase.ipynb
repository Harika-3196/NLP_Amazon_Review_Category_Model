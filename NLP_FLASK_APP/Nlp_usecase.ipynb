{
 "cells": [
  {
   "cell_type": "code",
   "execution_count": 2,
   "metadata": {
    "ExecuteTime": {
     "end_time": "2021-02-26T03:05:46.279764Z",
     "start_time": "2021-02-26T03:05:41.609408Z"
    }
   },
   "outputs": [],
   "source": [
    "import re\n",
    "import gzip\n",
    "import numpy as np\n",
    "import pandas as pd\n",
    "import tensorflow as tf\n",
    "import matplotlib.pyplot as plt\n",
    "\n",
    "\n",
    "from termcolor import colored\n"
   ]
  },
  {
   "cell_type": "code",
   "execution_count": 5,
   "metadata": {
    "ExecuteTime": {
     "end_time": "2021-02-21T14:58:46.760954Z",
     "start_time": "2021-02-21T14:58:46.755705Z"
    }
   },
   "outputs": [],
   "source": [
    "def parse(path):\n",
    "  g = gzip.open(path, 'rb')\n",
    "  for l in g:\n",
    "    yield eval(l)\n",
    "\n",
    "def getDF(path):\n",
    "  i = 0\n",
    "  df = {}\n",
    "  for d in parse(path):\n",
    "    df[i] = d\n",
    "    i += 1\n",
    "  return pd.DataFrame.from_dict(df, orient='index')\n",
    "\n"
   ]
  },
  {
   "cell_type": "code",
   "execution_count": 6,
   "metadata": {
    "ExecuteTime": {
     "end_time": "2021-02-21T14:58:58.429795Z",
     "start_time": "2021-02-21T14:58:46.765664Z"
    }
   },
   "outputs": [],
   "source": [
    "beauty_df=getDF('./reviews_Beauty_5.json.gz')"
   ]
  },
  {
   "cell_type": "code",
   "execution_count": 7,
   "metadata": {
    "ExecuteTime": {
     "end_time": "2021-02-21T14:59:08.057092Z",
     "start_time": "2021-02-21T14:58:58.432406Z"
    }
   },
   "outputs": [],
   "source": [
    "grocery_df=getDF('./reviews_Grocery_and_Gourmet_Food_5.json.gz')"
   ]
  },
  {
   "cell_type": "code",
   "execution_count": 8,
   "metadata": {
    "ExecuteTime": {
     "end_time": "2021-02-21T14:59:08.081319Z",
     "start_time": "2021-02-21T14:59:08.059230Z"
    }
   },
   "outputs": [
    {
     "data": {
      "text/html": [
       "<div>\n",
       "<style scoped>\n",
       "    .dataframe tbody tr th:only-of-type {\n",
       "        vertical-align: middle;\n",
       "    }\n",
       "\n",
       "    .dataframe tbody tr th {\n",
       "        vertical-align: top;\n",
       "    }\n",
       "\n",
       "    .dataframe thead th {\n",
       "        text-align: right;\n",
       "    }\n",
       "</style>\n",
       "<table border=\"1\" class=\"dataframe\">\n",
       "  <thead>\n",
       "    <tr style=\"text-align: right;\">\n",
       "      <th></th>\n",
       "      <th>reviewerID</th>\n",
       "      <th>asin</th>\n",
       "      <th>reviewerName</th>\n",
       "      <th>helpful</th>\n",
       "      <th>reviewText</th>\n",
       "      <th>overall</th>\n",
       "      <th>summary</th>\n",
       "      <th>unixReviewTime</th>\n",
       "      <th>reviewTime</th>\n",
       "    </tr>\n",
       "  </thead>\n",
       "  <tbody>\n",
       "    <tr>\n",
       "      <th>0</th>\n",
       "      <td>A1YJEY40YUW4SE</td>\n",
       "      <td>7806397051</td>\n",
       "      <td>Andrea</td>\n",
       "      <td>[3, 4]</td>\n",
       "      <td>Very oily and creamy. Not at all what I expect...</td>\n",
       "      <td>1.0</td>\n",
       "      <td>Don't waste your money</td>\n",
       "      <td>1391040000</td>\n",
       "      <td>01 30, 2014</td>\n",
       "    </tr>\n",
       "    <tr>\n",
       "      <th>1</th>\n",
       "      <td>A60XNB876KYML</td>\n",
       "      <td>7806397051</td>\n",
       "      <td>Jessica H.</td>\n",
       "      <td>[1, 1]</td>\n",
       "      <td>This palette was a decent price and I was look...</td>\n",
       "      <td>3.0</td>\n",
       "      <td>OK Palette!</td>\n",
       "      <td>1397779200</td>\n",
       "      <td>04 18, 2014</td>\n",
       "    </tr>\n",
       "    <tr>\n",
       "      <th>2</th>\n",
       "      <td>A3G6XNM240RMWA</td>\n",
       "      <td>7806397051</td>\n",
       "      <td>Karen</td>\n",
       "      <td>[0, 1]</td>\n",
       "      <td>The texture of this concealer pallet is fantas...</td>\n",
       "      <td>4.0</td>\n",
       "      <td>great quality</td>\n",
       "      <td>1378425600</td>\n",
       "      <td>09 6, 2013</td>\n",
       "    </tr>\n",
       "    <tr>\n",
       "      <th>3</th>\n",
       "      <td>A1PQFP6SAJ6D80</td>\n",
       "      <td>7806397051</td>\n",
       "      <td>Norah</td>\n",
       "      <td>[2, 2]</td>\n",
       "      <td>I really can't tell what exactly this thing is...</td>\n",
       "      <td>2.0</td>\n",
       "      <td>Do not work on my face</td>\n",
       "      <td>1386460800</td>\n",
       "      <td>12 8, 2013</td>\n",
       "    </tr>\n",
       "    <tr>\n",
       "      <th>4</th>\n",
       "      <td>A38FVHZTNQ271F</td>\n",
       "      <td>7806397051</td>\n",
       "      <td>Nova Amor</td>\n",
       "      <td>[0, 0]</td>\n",
       "      <td>It was a little smaller than I expected, but t...</td>\n",
       "      <td>3.0</td>\n",
       "      <td>It's okay.</td>\n",
       "      <td>1382140800</td>\n",
       "      <td>10 19, 2013</td>\n",
       "    </tr>\n",
       "  </tbody>\n",
       "</table>\n",
       "</div>"
      ],
      "text/plain": [
       "       reviewerID        asin reviewerName helpful  \\\n",
       "0  A1YJEY40YUW4SE  7806397051       Andrea  [3, 4]   \n",
       "1   A60XNB876KYML  7806397051   Jessica H.  [1, 1]   \n",
       "2  A3G6XNM240RMWA  7806397051        Karen  [0, 1]   \n",
       "3  A1PQFP6SAJ6D80  7806397051        Norah  [2, 2]   \n",
       "4  A38FVHZTNQ271F  7806397051    Nova Amor  [0, 0]   \n",
       "\n",
       "                                          reviewText  overall  \\\n",
       "0  Very oily and creamy. Not at all what I expect...      1.0   \n",
       "1  This palette was a decent price and I was look...      3.0   \n",
       "2  The texture of this concealer pallet is fantas...      4.0   \n",
       "3  I really can't tell what exactly this thing is...      2.0   \n",
       "4  It was a little smaller than I expected, but t...      3.0   \n",
       "\n",
       "                  summary  unixReviewTime   reviewTime  \n",
       "0  Don't waste your money      1391040000  01 30, 2014  \n",
       "1             OK Palette!      1397779200  04 18, 2014  \n",
       "2           great quality      1378425600   09 6, 2013  \n",
       "3  Do not work on my face      1386460800   12 8, 2013  \n",
       "4              It's okay.      1382140800  10 19, 2013  "
      ]
     },
     "execution_count": 8,
     "metadata": {},
     "output_type": "execute_result"
    }
   ],
   "source": [
    "beauty_df.head(5)"
   ]
  },
  {
   "cell_type": "code",
   "execution_count": 9,
   "metadata": {
    "ExecuteTime": {
     "end_time": "2021-02-21T14:59:11.959597Z",
     "start_time": "2021-02-21T14:59:08.084005Z"
    }
   },
   "outputs": [],
   "source": [
    "office_df=getDF(\"./reviews_Office_Products_5.json.gz\")"
   ]
  },
  {
   "cell_type": "code",
   "execution_count": 10,
   "metadata": {
    "ExecuteTime": {
     "end_time": "2021-02-21T14:59:21.061739Z",
     "start_time": "2021-02-21T14:59:11.961521Z"
    }
   },
   "outputs": [],
   "source": [
    "pet_df=getDF(\"./reviews_Pet_Supplies_5.json.gz\")"
   ]
  },
  {
   "cell_type": "code",
   "execution_count": 11,
   "metadata": {
    "ExecuteTime": {
     "end_time": "2021-02-21T14:59:31.501517Z",
     "start_time": "2021-02-21T14:59:21.065673Z"
    }
   },
   "outputs": [],
   "source": [
    "toy_df=getDF(\"./reviews_Toys_and_Games_5.json.gz\")"
   ]
  },
  {
   "cell_type": "code",
   "execution_count": 12,
   "metadata": {
    "ExecuteTime": {
     "end_time": "2021-02-21T14:59:31.676028Z",
     "start_time": "2021-02-21T14:59:31.505312Z"
    }
   },
   "outputs": [],
   "source": [
    "beauty_df=beauty_df[[\"reviewText\",\"overall\"]]\n",
    "beauty_df[\"category\"]=\"beauty\"\n",
    "\n",
    "grocery_df=grocery_df[[\"reviewText\",\"overall\"]]\n",
    "grocery_df[\"category\"]=\"grocery\"\n",
    "\n",
    "office_df=office_df[[\"reviewText\",\"overall\"]]\n",
    "office_df[\"category\"]=\"office\"\n",
    "\n",
    "pet_df=pet_df[[\"reviewText\",\"overall\"]]\n",
    "pet_df[\"category\"]=\"pet\"\n",
    "\n",
    "toy_df=toy_df[[\"reviewText\",\"overall\"]]\n",
    "toy_df[\"category\"]=\"toy\"\n"
   ]
  },
  {
   "cell_type": "code",
   "execution_count": 13,
   "metadata": {
    "ExecuteTime": {
     "end_time": "2021-02-21T14:59:31.685915Z",
     "start_time": "2021-02-21T14:59:31.677842Z"
    }
   },
   "outputs": [
    {
     "data": {
      "text/html": [
       "<div>\n",
       "<style scoped>\n",
       "    .dataframe tbody tr th:only-of-type {\n",
       "        vertical-align: middle;\n",
       "    }\n",
       "\n",
       "    .dataframe tbody tr th {\n",
       "        vertical-align: top;\n",
       "    }\n",
       "\n",
       "    .dataframe thead th {\n",
       "        text-align: right;\n",
       "    }\n",
       "</style>\n",
       "<table border=\"1\" class=\"dataframe\">\n",
       "  <thead>\n",
       "    <tr style=\"text-align: right;\">\n",
       "      <th></th>\n",
       "      <th>reviewText</th>\n",
       "      <th>overall</th>\n",
       "      <th>category</th>\n",
       "    </tr>\n",
       "  </thead>\n",
       "  <tbody>\n",
       "    <tr>\n",
       "      <th>0</th>\n",
       "      <td>Just another flavor of Kit Kat but the taste i...</td>\n",
       "      <td>4.0</td>\n",
       "      <td>grocery</td>\n",
       "    </tr>\n",
       "    <tr>\n",
       "      <th>1</th>\n",
       "      <td>I bought this on impulse and it comes from Jap...</td>\n",
       "      <td>3.0</td>\n",
       "      <td>grocery</td>\n",
       "    </tr>\n",
       "  </tbody>\n",
       "</table>\n",
       "</div>"
      ],
      "text/plain": [
       "                                          reviewText  overall category\n",
       "0  Just another flavor of Kit Kat but the taste i...      4.0  grocery\n",
       "1  I bought this on impulse and it comes from Jap...      3.0  grocery"
      ]
     },
     "execution_count": 13,
     "metadata": {},
     "output_type": "execute_result"
    }
   ],
   "source": [
    "grocery_df.head(2)"
   ]
  },
  {
   "cell_type": "code",
   "execution_count": 14,
   "metadata": {
    "ExecuteTime": {
     "end_time": "2021-02-21T14:59:31.839896Z",
     "start_time": "2021-02-21T14:59:31.688289Z"
    }
   },
   "outputs": [],
   "source": [
    "data=pd.concat([beauty_df,grocery_df,office_df,pet_df,toy_df])"
   ]
  },
  {
   "cell_type": "code",
   "execution_count": 15,
   "metadata": {
    "ExecuteTime": {
     "end_time": "2021-02-21T14:59:31.846770Z",
     "start_time": "2021-02-21T14:59:31.842643Z"
    }
   },
   "outputs": [
    {
     "name": "stdout",
     "output_type": "stream",
     "text": [
      "\u001b[31mTotal length of data\u001b[0m \u001b[32m728447\u001b[0m\n"
     ]
    }
   ],
   "source": [
    "print(colored(\"Total length of data\",\"red\"),colored(len(data),\"green\"))"
   ]
  },
  {
   "cell_type": "code",
   "execution_count": 16,
   "metadata": {
    "ExecuteTime": {
     "end_time": "2021-02-21T14:59:32.236794Z",
     "start_time": "2021-02-21T14:59:31.849417Z"
    }
   },
   "outputs": [
    {
     "data": {
      "image/png": "[encoded data removed]",
      "text/plain": [
       "<Figure size 432x288 with 1 Axes>"
      ]
     },
     "metadata": {
      "needs_background": "light"
     },
     "output_type": "display_data"
    }
   ],
   "source": [
    "data[\"category\"].value_counts().plot(kind=\"bar\");"
   ]
  },
  {
   "cell_type": "code",
   "execution_count": 17,
   "metadata": {
    "ExecuteTime": {
     "end_time": "2021-02-21T14:59:33.722829Z",
     "start_time": "2021-02-21T14:59:32.242193Z"
    }
   },
   "outputs": [],
   "source": [
    "data.drop_duplicates(inplace=True)"
   ]
  },
  {
   "cell_type": "code",
   "execution_count": 18,
   "metadata": {
    "ExecuteTime": {
     "end_time": "2021-02-21T14:59:33.943216Z",
     "start_time": "2021-02-21T14:59:33.729178Z"
    }
   },
   "outputs": [],
   "source": [
    "data.dropna(inplace=True)"
   ]
  },
  {
   "cell_type": "code",
   "execution_count": 19,
   "metadata": {
    "ExecuteTime": {
     "end_time": "2021-02-21T14:59:33.955986Z",
     "start_time": "2021-02-21T14:59:33.945394Z"
    }
   },
   "outputs": [
    {
     "data": {
      "text/plain": [
       "728053"
      ]
     },
     "execution_count": 19,
     "metadata": {},
     "output_type": "execute_result"
    }
   ],
   "source": [
    "len(data)"
   ]
  },
  {
   "cell_type": "code",
   "execution_count": 20,
   "metadata": {
    "ExecuteTime": {
     "end_time": "2021-02-21T14:59:34.050561Z",
     "start_time": "2021-02-21T14:59:33.958778Z"
    }
   },
   "outputs": [],
   "source": [
    "data=data.groupby(\"category\").head(10000)"
   ]
  },
  {
   "cell_type": "code",
   "execution_count": 21,
   "metadata": {
    "ExecuteTime": {
     "end_time": "2021-02-21T14:59:34.059164Z",
     "start_time": "2021-02-21T14:59:34.053185Z"
    }
   },
   "outputs": [
    {
     "data": {
      "text/plain": [
       "50000"
      ]
     },
     "execution_count": 21,
     "metadata": {},
     "output_type": "execute_result"
    }
   ],
   "source": [
    "len(data)"
   ]
  },
  {
   "cell_type": "markdown",
   "metadata": {},
   "source": [
    "# Data Cleaning"
   ]
  },
  {
   "cell_type": "code",
   "execution_count": 22,
   "metadata": {
    "ExecuteTime": {
     "end_time": "2021-02-21T14:59:34.809093Z",
     "start_time": "2021-02-21T14:59:34.061086Z"
    }
   },
   "outputs": [],
   "source": [
    "import string\n",
    "from nltk.tokenize import word_tokenize as tokenize\n",
    "from nltk.corpus import stopwords\n",
    "stop_words=stopwords.words('english')"
   ]
  },
  {
   "cell_type": "code",
   "execution_count": 23,
   "metadata": {
    "ExecuteTime": {
     "end_time": "2021-02-21T14:59:34.820477Z",
     "start_time": "2021-02-21T14:59:34.811273Z"
    }
   },
   "outputs": [],
   "source": [
    "def clean(text):\n",
    "    text=text.lower()\n",
    "    url_removed=re.sub(r'http\\S+','',text,flags=re.MULTILINE)\n",
    "    text=re.sub(\"[^a-zA-Z]\",\" \",url_removed)\n",
    "    text=re.sub(\"\\.+\",\" \",text)\n",
    "    word_tokens=tokenize(text)\n",
    "    text=[word for word in word_tokens if word not in stop_words]\n",
    "    text=[word for word in text if word not in string.punctuation]\n",
    "    return \" \".join(text)"
   ]
  },
  {
   "cell_type": "code",
   "execution_count": 24,
   "metadata": {
    "ExecuteTime": {
     "end_time": "2021-02-21T14:59:34.834860Z",
     "start_time": "2021-02-21T14:59:34.822783Z"
    }
   },
   "outputs": [
    {
     "data": {
      "text/plain": [
       "'good day'"
      ]
     },
     "execution_count": 24,
     "metadata": {},
     "output_type": "execute_result"
    }
   ],
   "source": [
    "clean(\"this is good. day 000 !!!! Is it &\")"
   ]
  },
  {
   "cell_type": "code",
   "execution_count": 25,
   "metadata": {
    "ExecuteTime": {
     "end_time": "2021-02-21T14:59:34.840791Z",
     "start_time": "2021-02-21T14:59:34.837810Z"
    }
   },
   "outputs": [],
   "source": [
    "check=data[\"reviewText\"].iloc[0]"
   ]
  },
  {
   "cell_type": "code",
   "execution_count": 26,
   "metadata": {
    "ExecuteTime": {
     "end_time": "2021-02-21T14:59:34.851556Z",
     "start_time": "2021-02-21T14:59:34.848214Z"
    }
   },
   "outputs": [
    {
     "name": "stdout",
     "output_type": "stream",
     "text": [
      "original sentence Very oily and creamy. Not at all what I expected... ordered this to try to highlight and contour and it just looked awful!!! Plus, took FOREVER to arrive.\n"
     ]
    }
   ],
   "source": [
    "print(\"original sentence\",check)"
   ]
  },
  {
   "cell_type": "code",
   "execution_count": 27,
   "metadata": {
    "ExecuteTime": {
     "end_time": "2021-02-21T14:59:34.862612Z",
     "start_time": "2021-02-21T14:59:34.858703Z"
    }
   },
   "outputs": [
    {
     "name": "stdout",
     "output_type": "stream",
     "text": [
      "cleaned sentence oily creamy expected ordered try highlight contour looked awful plus took forever arrive\n"
     ]
    }
   ],
   "source": [
    "print(\"cleaned sentence\",clean(check))"
   ]
  },
  {
   "cell_type": "code",
   "execution_count": 28,
   "metadata": {
    "ExecuteTime": {
     "end_time": "2021-02-21T15:00:07.138108Z",
     "start_time": "2021-02-21T14:59:34.864605Z"
    }
   },
   "outputs": [],
   "source": [
    "data[\"cleaned_text\"]=data[\"reviewText\"].apply(lambda x:clean(x))"
   ]
  },
  {
   "cell_type": "code",
   "execution_count": 29,
   "metadata": {
    "ExecuteTime": {
     "end_time": "2021-02-21T15:00:07.150693Z",
     "start_time": "2021-02-21T15:00:07.140166Z"
    }
   },
   "outputs": [
    {
     "data": {
      "text/html": [
       "<div>\n",
       "<style scoped>\n",
       "    .dataframe tbody tr th:only-of-type {\n",
       "        vertical-align: middle;\n",
       "    }\n",
       "\n",
       "    .dataframe tbody tr th {\n",
       "        vertical-align: top;\n",
       "    }\n",
       "\n",
       "    .dataframe thead th {\n",
       "        text-align: right;\n",
       "    }\n",
       "</style>\n",
       "<table border=\"1\" class=\"dataframe\">\n",
       "  <thead>\n",
       "    <tr style=\"text-align: right;\">\n",
       "      <th></th>\n",
       "      <th>reviewText</th>\n",
       "      <th>overall</th>\n",
       "      <th>category</th>\n",
       "      <th>cleaned_text</th>\n",
       "    </tr>\n",
       "  </thead>\n",
       "  <tbody>\n",
       "    <tr>\n",
       "      <th>0</th>\n",
       "      <td>Very oily and creamy. Not at all what I expect...</td>\n",
       "      <td>1.0</td>\n",
       "      <td>beauty</td>\n",
       "      <td>oily creamy expected ordered try highlight con...</td>\n",
       "    </tr>\n",
       "    <tr>\n",
       "      <th>1</th>\n",
       "      <td>This palette was a decent price and I was look...</td>\n",
       "      <td>3.0</td>\n",
       "      <td>beauty</td>\n",
       "      <td>palette decent price looking different shades ...</td>\n",
       "    </tr>\n",
       "    <tr>\n",
       "      <th>2</th>\n",
       "      <td>The texture of this concealer pallet is fantas...</td>\n",
       "      <td>4.0</td>\n",
       "      <td>beauty</td>\n",
       "      <td>texture concealer pallet fantastic great cover...</td>\n",
       "    </tr>\n",
       "    <tr>\n",
       "      <th>3</th>\n",
       "      <td>I really can't tell what exactly this thing is...</td>\n",
       "      <td>2.0</td>\n",
       "      <td>beauty</td>\n",
       "      <td>really tell exactly thing powder kind oil ish ...</td>\n",
       "    </tr>\n",
       "    <tr>\n",
       "      <th>4</th>\n",
       "      <td>It was a little smaller than I expected, but t...</td>\n",
       "      <td>3.0</td>\n",
       "      <td>beauty</td>\n",
       "      <td>little smaller expected okay lasted long time ...</td>\n",
       "    </tr>\n",
       "  </tbody>\n",
       "</table>\n",
       "</div>"
      ],
      "text/plain": [
       "                                          reviewText  overall category  \\\n",
       "0  Very oily and creamy. Not at all what I expect...      1.0   beauty   \n",
       "1  This palette was a decent price and I was look...      3.0   beauty   \n",
       "2  The texture of this concealer pallet is fantas...      4.0   beauty   \n",
       "3  I really can't tell what exactly this thing is...      2.0   beauty   \n",
       "4  It was a little smaller than I expected, but t...      3.0   beauty   \n",
       "\n",
       "                                        cleaned_text  \n",
       "0  oily creamy expected ordered try highlight con...  \n",
       "1  palette decent price looking different shades ...  \n",
       "2  texture concealer pallet fantastic great cover...  \n",
       "3  really tell exactly thing powder kind oil ish ...  \n",
       "4  little smaller expected okay lasted long time ...  "
      ]
     },
     "execution_count": 29,
     "metadata": {},
     "output_type": "execute_result"
    }
   ],
   "source": [
    "data.head(5)"
   ]
  },
  {
   "cell_type": "code",
   "execution_count": 14,
   "metadata": {
    "ExecuteTime": {
     "end_time": "2021-02-26T03:10:08.188575Z",
     "start_time": "2021-02-26T03:10:08.173989Z"
    }
   },
   "outputs": [
    {
     "ename": "NameError",
     "evalue": "name 'data' is not defined",
     "output_type": "error",
     "traceback": [
      "\u001b[0;31m---------------------------------------------------------------------------\u001b[0m",
      "\u001b[0;31mNameError\u001b[0m                                 Traceback (most recent call last)",
      "\u001b[0;32m<ipython-input-14-853a2c85092d>\u001b[0m in \u001b[0;36m<module>\u001b[0;34m\u001b[0m\n\u001b[1;32m      1\u001b[0m \u001b[0mcategory_labels\u001b[0m\u001b[0;34m=\u001b[0m\u001b[0;34m{\u001b[0m\u001b[0;34m\"beauty\"\u001b[0m\u001b[0;34m:\u001b[0m\u001b[0;36m0\u001b[0m\u001b[0;34m,\u001b[0m\u001b[0;34m\"grocery\"\u001b[0m\u001b[0;34m:\u001b[0m\u001b[0;36m1\u001b[0m\u001b[0;34m,\u001b[0m\u001b[0;34m\"office\"\u001b[0m\u001b[0;34m:\u001b[0m\u001b[0;36m2\u001b[0m\u001b[0;34m,\u001b[0m\u001b[0;34m\"pet\"\u001b[0m\u001b[0;34m:\u001b[0m\u001b[0;36m3\u001b[0m\u001b[0;34m,\u001b[0m\u001b[0;34m\"toy\"\u001b[0m\u001b[0;34m:\u001b[0m\u001b[0;36m4\u001b[0m\u001b[0;34m}\u001b[0m\u001b[0;34m\u001b[0m\u001b[0;34m\u001b[0m\u001b[0m\n\u001b[0;32m----> 2\u001b[0;31m \u001b[0mdata\u001b[0m\u001b[0;34m[\u001b[0m\u001b[0;34m\"label\"\u001b[0m\u001b[0;34m]\u001b[0m\u001b[0;34m=\u001b[0m\u001b[0mdata\u001b[0m\u001b[0;34m[\u001b[0m\u001b[0;34m\"category\"\u001b[0m\u001b[0;34m]\u001b[0m\u001b[0;34m.\u001b[0m\u001b[0mmap\u001b[0m\u001b[0;34m(\u001b[0m\u001b[0mcategory_labels\u001b[0m\u001b[0;34m)\u001b[0m\u001b[0;34m\u001b[0m\u001b[0;34m\u001b[0m\u001b[0m\n\u001b[0m",
      "\u001b[0;31mNameError\u001b[0m: name 'data' is not defined"
     ]
    }
   ],
   "source": [
    "category_labels={\"beauty\":0,\"grocery\":1,\"office\":2,\"pet\":3,\"toy\":4}\n",
    "data[\"label\"]=data[\"category\"].map(category_labels)"
   ]
  },
  {
   "cell_type": "code",
   "execution_count": 31,
   "metadata": {
    "ExecuteTime": {
     "end_time": "2021-02-21T15:00:07.174706Z",
     "start_time": "2021-02-21T15:00:07.163693Z"
    }
   },
   "outputs": [
    {
     "data": {
      "text/html": [
       "<div>\n",
       "<style scoped>\n",
       "    .dataframe tbody tr th:only-of-type {\n",
       "        vertical-align: middle;\n",
       "    }\n",
       "\n",
       "    .dataframe tbody tr th {\n",
       "        vertical-align: top;\n",
       "    }\n",
       "\n",
       "    .dataframe thead th {\n",
       "        text-align: right;\n",
       "    }\n",
       "</style>\n",
       "<table border=\"1\" class=\"dataframe\">\n",
       "  <thead>\n",
       "    <tr style=\"text-align: right;\">\n",
       "      <th></th>\n",
       "      <th>reviewText</th>\n",
       "      <th>overall</th>\n",
       "      <th>category</th>\n",
       "      <th>cleaned_text</th>\n",
       "      <th>label</th>\n",
       "    </tr>\n",
       "  </thead>\n",
       "  <tbody>\n",
       "    <tr>\n",
       "      <th>0</th>\n",
       "      <td>Very oily and creamy. Not at all what I expect...</td>\n",
       "      <td>1.0</td>\n",
       "      <td>beauty</td>\n",
       "      <td>oily creamy expected ordered try highlight con...</td>\n",
       "      <td>0</td>\n",
       "    </tr>\n",
       "    <tr>\n",
       "      <th>1</th>\n",
       "      <td>This palette was a decent price and I was look...</td>\n",
       "      <td>3.0</td>\n",
       "      <td>beauty</td>\n",
       "      <td>palette decent price looking different shades ...</td>\n",
       "      <td>0</td>\n",
       "    </tr>\n",
       "    <tr>\n",
       "      <th>2</th>\n",
       "      <td>The texture of this concealer pallet is fantas...</td>\n",
       "      <td>4.0</td>\n",
       "      <td>beauty</td>\n",
       "      <td>texture concealer pallet fantastic great cover...</td>\n",
       "      <td>0</td>\n",
       "    </tr>\n",
       "    <tr>\n",
       "      <th>3</th>\n",
       "      <td>I really can't tell what exactly this thing is...</td>\n",
       "      <td>2.0</td>\n",
       "      <td>beauty</td>\n",
       "      <td>really tell exactly thing powder kind oil ish ...</td>\n",
       "      <td>0</td>\n",
       "    </tr>\n",
       "    <tr>\n",
       "      <th>4</th>\n",
       "      <td>It was a little smaller than I expected, but t...</td>\n",
       "      <td>3.0</td>\n",
       "      <td>beauty</td>\n",
       "      <td>little smaller expected okay lasted long time ...</td>\n",
       "      <td>0</td>\n",
       "    </tr>\n",
       "  </tbody>\n",
       "</table>\n",
       "</div>"
      ],
      "text/plain": [
       "                                          reviewText  overall category  \\\n",
       "0  Very oily and creamy. Not at all what I expect...      1.0   beauty   \n",
       "1  This palette was a decent price and I was look...      3.0   beauty   \n",
       "2  The texture of this concealer pallet is fantas...      4.0   beauty   \n",
       "3  I really can't tell what exactly this thing is...      2.0   beauty   \n",
       "4  It was a little smaller than I expected, but t...      3.0   beauty   \n",
       "\n",
       "                                        cleaned_text  label  \n",
       "0  oily creamy expected ordered try highlight con...      0  \n",
       "1  palette decent price looking different shades ...      0  \n",
       "2  texture concealer pallet fantastic great cover...      0  \n",
       "3  really tell exactly thing powder kind oil ish ...      0  \n",
       "4  little smaller expected okay lasted long time ...      0  "
      ]
     },
     "execution_count": 31,
     "metadata": {},
     "output_type": "execute_result"
    }
   ],
   "source": [
    "data.head(5)"
   ]
  },
  {
   "cell_type": "code",
   "execution_count": 32,
   "metadata": {
    "ExecuteTime": {
     "end_time": "2021-02-21T15:00:07.197150Z",
     "start_time": "2021-02-21T15:00:07.177501Z"
    }
   },
   "outputs": [],
   "source": [
    "data=data[[\"cleaned_text\",\"label\"]]"
   ]
  },
  {
   "cell_type": "code",
   "execution_count": 33,
   "metadata": {
    "ExecuteTime": {
     "end_time": "2021-02-21T15:00:07.213482Z",
     "start_time": "2021-02-21T15:00:07.202468Z"
    }
   },
   "outputs": [
    {
     "data": {
      "text/html": [
       "<div>\n",
       "<style scoped>\n",
       "    .dataframe tbody tr th:only-of-type {\n",
       "        vertical-align: middle;\n",
       "    }\n",
       "\n",
       "    .dataframe tbody tr th {\n",
       "        vertical-align: top;\n",
       "    }\n",
       "\n",
       "    .dataframe thead th {\n",
       "        text-align: right;\n",
       "    }\n",
       "</style>\n",
       "<table border=\"1\" class=\"dataframe\">\n",
       "  <thead>\n",
       "    <tr style=\"text-align: right;\">\n",
       "      <th></th>\n",
       "      <th>cleaned_text</th>\n",
       "      <th>label</th>\n",
       "    </tr>\n",
       "  </thead>\n",
       "  <tbody>\n",
       "    <tr>\n",
       "      <th>0</th>\n",
       "      <td>oily creamy expected ordered try highlight con...</td>\n",
       "      <td>0</td>\n",
       "    </tr>\n",
       "    <tr>\n",
       "      <th>1</th>\n",
       "      <td>palette decent price looking different shades ...</td>\n",
       "      <td>0</td>\n",
       "    </tr>\n",
       "  </tbody>\n",
       "</table>\n",
       "</div>"
      ],
      "text/plain": [
       "                                        cleaned_text  label\n",
       "0  oily creamy expected ordered try highlight con...      0\n",
       "1  palette decent price looking different shades ...      0"
      ]
     },
     "execution_count": 33,
     "metadata": {},
     "output_type": "execute_result"
    }
   ],
   "source": [
    "data.head(2)"
   ]
  },
  {
   "cell_type": "code",
   "execution_count": 34,
   "metadata": {
    "ExecuteTime": {
     "end_time": "2021-02-21T15:00:07.222182Z",
     "start_time": "2021-02-21T15:00:07.216999Z"
    }
   },
   "outputs": [
    {
     "data": {
      "text/plain": [
       "numpy.int64"
      ]
     },
     "execution_count": 34,
     "metadata": {},
     "output_type": "execute_result"
    }
   ],
   "source": [
    "type(data[\"label\"].iloc[0])"
   ]
  },
  {
   "cell_type": "code",
   "execution_count": 35,
   "metadata": {
    "ExecuteTime": {
     "end_time": "2021-02-21T15:00:07.228742Z",
     "start_time": "2021-02-21T15:00:07.225076Z"
    }
   },
   "outputs": [],
   "source": [
    "data[\"label\"]=data[\"label\"].astype(int)"
   ]
  },
  {
   "cell_type": "code",
   "execution_count": 36,
   "metadata": {
    "ExecuteTime": {
     "end_time": "2021-02-21T15:00:07.435185Z",
     "start_time": "2021-02-21T15:00:07.231239Z"
    }
   },
   "outputs": [],
   "source": [
    "data[\"len\"]=data[\"cleaned_text\"].apply(lambda x:len(x.split()))"
   ]
  },
  {
   "cell_type": "code",
   "execution_count": 37,
   "metadata": {
    "ExecuteTime": {
     "end_time": "2021-02-21T15:00:07.446230Z",
     "start_time": "2021-02-21T15:00:07.437780Z"
    }
   },
   "outputs": [
    {
     "data": {
      "text/plain": [
       "1155"
      ]
     },
     "execution_count": 37,
     "metadata": {},
     "output_type": "execute_result"
    }
   ],
   "source": [
    "max(data[\"len\"])"
   ]
  },
  {
   "cell_type": "code",
   "execution_count": 38,
   "metadata": {
    "ExecuteTime": {
     "end_time": "2021-02-21T15:00:07.458192Z",
     "start_time": "2021-02-21T15:00:07.448065Z"
    }
   },
   "outputs": [
    {
     "data": {
      "text/plain": [
       "0"
      ]
     },
     "execution_count": 38,
     "metadata": {},
     "output_type": "execute_result"
    }
   ],
   "source": [
    "min(data[\"len\"])"
   ]
  },
  {
   "cell_type": "code",
   "execution_count": 39,
   "metadata": {
    "ExecuteTime": {
     "end_time": "2021-02-21T15:00:07.467984Z",
     "start_time": "2021-02-21T15:00:07.460715Z"
    }
   },
   "outputs": [],
   "source": [
    "data=data[data[\"len\"]>=1]"
   ]
  },
  {
   "cell_type": "code",
   "execution_count": 40,
   "metadata": {
    "ExecuteTime": {
     "end_time": "2021-02-21T15:00:07.474038Z",
     "start_time": "2021-02-21T15:00:07.469859Z"
    }
   },
   "outputs": [
    {
     "data": {
      "text/plain": [
       "numpy.int64"
      ]
     },
     "execution_count": 40,
     "metadata": {},
     "output_type": "execute_result"
    }
   ],
   "source": [
    "type(data[\"label\"].iloc[0])"
   ]
  },
  {
   "cell_type": "code",
   "execution_count": 41,
   "metadata": {
    "ExecuteTime": {
     "end_time": "2021-02-21T15:00:07.486451Z",
     "start_time": "2021-02-21T15:00:07.479714Z"
    }
   },
   "outputs": [
    {
     "data": {
      "text/plain": [
       "3    9999\n",
       "1    9998\n",
       "4    9997\n",
       "2    9997\n",
       "0    9997\n",
       "Name: label, dtype: int64"
      ]
     },
     "execution_count": 41,
     "metadata": {},
     "output_type": "execute_result"
    }
   ],
   "source": [
    "data[\"label\"].value_counts()"
   ]
  },
  {
   "cell_type": "code",
   "execution_count": 42,
   "metadata": {
    "ExecuteTime": {
     "end_time": "2021-02-21T15:00:07.507118Z",
     "start_time": "2021-02-21T15:00:07.488834Z"
    }
   },
   "outputs": [],
   "source": [
    "train_samples_class_0=data[data[\"label\"]==0][:9000]\n",
    "train_samples_class_1=data[data[\"label\"]==1][:9000]\n",
    "train_samples_class_2=data[data[\"label\"]==2][:9000]\n",
    "train_samples_class_3=data[data[\"label\"]==3][:9000]\n",
    "train_samples_class_4=data[data[\"label\"]==4][:9000]"
   ]
  },
  {
   "cell_type": "code",
   "execution_count": 43,
   "metadata": {
    "ExecuteTime": {
     "end_time": "2021-02-21T15:00:07.523556Z",
     "start_time": "2021-02-21T15:00:07.509609Z"
    }
   },
   "outputs": [],
   "source": [
    "test_samples_class_0=data[data[\"label\"]==0][9000:]\n",
    "test_samples_class_1=data[data[\"label\"]==1][9000:]\n",
    "test_samples_class_2=data[data[\"label\"]==2][9000:]\n",
    "test_samples_class_3=data[data[\"label\"]==3][9000:]\n",
    "test_samples_class_4=data[data[\"label\"]==4][9000:]"
   ]
  },
  {
   "cell_type": "code",
   "execution_count": 44,
   "metadata": {
    "ExecuteTime": {
     "end_time": "2021-02-21T15:00:07.534252Z",
     "start_time": "2021-02-21T15:00:07.526044Z"
    }
   },
   "outputs": [],
   "source": [
    "train=pd.concat([train_samples_class_0,train_samples_class_1,train_samples_class_2,train_samples_class_3,train_samples_class_4])"
   ]
  },
  {
   "cell_type": "code",
   "execution_count": 45,
   "metadata": {
    "ExecuteTime": {
     "end_time": "2021-02-21T15:00:07.542327Z",
     "start_time": "2021-02-21T15:00:07.536879Z"
    }
   },
   "outputs": [],
   "source": [
    "test=pd.concat([test_samples_class_0,test_samples_class_1,test_samples_class_2,test_samples_class_3,test_samples_class_4])"
   ]
  },
  {
   "cell_type": "code",
   "execution_count": 46,
   "metadata": {
    "ExecuteTime": {
     "end_time": "2021-02-21T15:00:07.548737Z",
     "start_time": "2021-02-21T15:00:07.544512Z"
    }
   },
   "outputs": [
    {
     "data": {
      "text/plain": [
       "45000"
      ]
     },
     "execution_count": 46,
     "metadata": {},
     "output_type": "execute_result"
    }
   ],
   "source": [
    "len(train)"
   ]
  },
  {
   "cell_type": "code",
   "execution_count": 47,
   "metadata": {
    "ExecuteTime": {
     "end_time": "2021-02-21T15:00:07.562188Z",
     "start_time": "2021-02-21T15:00:07.551164Z"
    }
   },
   "outputs": [
    {
     "data": {
      "text/plain": [
       "4988"
      ]
     },
     "execution_count": 47,
     "metadata": {},
     "output_type": "execute_result"
    }
   ],
   "source": [
    "len(test)"
   ]
  },
  {
   "cell_type": "code",
   "execution_count": 48,
   "metadata": {
    "ExecuteTime": {
     "end_time": "2021-02-21T15:00:07.574181Z",
     "start_time": "2021-02-21T15:00:07.564764Z"
    }
   },
   "outputs": [],
   "source": [
    "train=train.sample(frac=1.0)"
   ]
  },
  {
   "cell_type": "code",
   "execution_count": 49,
   "metadata": {
    "ExecuteTime": {
     "end_time": "2021-02-21T15:00:07.581759Z",
     "start_time": "2021-02-21T15:00:07.577019Z"
    }
   },
   "outputs": [],
   "source": [
    "test=test.sample(frac=1.0)"
   ]
  },
  {
   "cell_type": "code",
   "execution_count": 50,
   "metadata": {
    "ExecuteTime": {
     "end_time": "2021-02-21T15:00:07.607761Z",
     "start_time": "2021-02-21T15:00:07.584293Z"
    }
   },
   "outputs": [],
   "source": [
    "train.dropna(subset=[\"cleaned_text\"],inplace=True)"
   ]
  },
  {
   "cell_type": "code",
   "execution_count": 51,
   "metadata": {
    "ExecuteTime": {
     "end_time": "2021-02-21T15:00:07.616706Z",
     "start_time": "2021-02-21T15:00:07.609967Z"
    }
   },
   "outputs": [],
   "source": [
    "test.dropna(subset=[\"cleaned_text\"],inplace=True)"
   ]
  },
  {
   "cell_type": "code",
   "execution_count": 52,
   "metadata": {
    "ExecuteTime": {
     "end_time": "2021-02-21T15:00:07.623882Z",
     "start_time": "2021-02-21T15:00:07.619140Z"
    }
   },
   "outputs": [
    {
     "name": "stdout",
     "output_type": "stream",
     "text": [
      "length of train 45000\n",
      "length of test 4988\n"
     ]
    }
   ],
   "source": [
    "print(\"length of train\",len(train))\n",
    "print(\"length of test\",len(test))"
   ]
  },
  {
   "cell_type": "code",
   "execution_count": 53,
   "metadata": {
    "ExecuteTime": {
     "end_time": "2021-02-21T15:00:07.633737Z",
     "start_time": "2021-02-21T15:00:07.627316Z"
    }
   },
   "outputs": [],
   "source": [
    "X_train=np.array(train[\"cleaned_text\"])\n",
    "X_test=np.array(test[\"cleaned_text\"])\n",
    "y_train=np.array(train[\"label\"])\n",
    "y_test=np.array(test[\"label\"])"
   ]
  },
  {
   "cell_type": "markdown",
   "metadata": {
    "ExecuteTime": {
     "end_time": "2021-02-20T15:40:13.718383Z",
     "start_time": "2021-02-20T15:40:13.702502Z"
    }
   },
   "source": [
    "# Data Preprocessing"
   ]
  },
  {
   "cell_type": "code",
   "execution_count": 16,
   "metadata": {
    "ExecuteTime": {
     "end_time": "2021-02-26T03:10:37.113354Z",
     "start_time": "2021-02-26T03:10:37.109901Z"
    }
   },
   "outputs": [],
   "source": [
    "from tensorflow.keras.preprocessing.text import Tokenizer\n",
    "from tensorflow.keras.preprocessing.sequence import pad_sequences\n",
    "from tensorflow.keras import Sequential"
   ]
  },
  {
   "cell_type": "code",
   "execution_count": 55,
   "metadata": {
    "ExecuteTime": {
     "end_time": "2021-02-21T15:00:09.684171Z",
     "start_time": "2021-02-21T15:00:07.645760Z"
    }
   },
   "outputs": [],
   "source": [
    "tokenizer=Tokenizer(oov_token=\"<UNK>\")\n",
    "tokenizer.fit_on_texts(X_train)\n",
    "word_index=tokenizer.word_index"
   ]
  },
  {
   "cell_type": "code",
   "execution_count": 56,
   "metadata": {
    "ExecuteTime": {
     "end_time": "2021-02-21T15:00:09.690096Z",
     "start_time": "2021-02-21T15:00:09.686163Z"
    }
   },
   "outputs": [
    {
     "data": {
      "text/plain": [
       "45586"
      ]
     },
     "execution_count": 56,
     "metadata": {},
     "output_type": "execute_result"
    }
   ],
   "source": [
    "len(word_index)"
   ]
  },
  {
   "cell_type": "code",
   "execution_count": 57,
   "metadata": {
    "ExecuteTime": {
     "end_time": "2021-02-21T15:00:09.697238Z",
     "start_time": "2021-02-21T15:00:09.692239Z"
    }
   },
   "outputs": [
    {
     "name": "stdout",
     "output_type": "stream",
     "text": [
      "45587\n"
     ]
    }
   ],
   "source": [
    "vocab_size=len(word_index)+1\n",
    "print(vocab_size)"
   ]
  },
  {
   "cell_type": "code",
   "execution_count": 58,
   "metadata": {
    "ExecuteTime": {
     "end_time": "2021-02-21T15:00:09.942835Z",
     "start_time": "2021-02-21T15:00:09.700151Z"
    }
   },
   "outputs": [
    {
     "data": {
      "text/plain": [
       "(array([16619., 15260.,  7274.,  4026.,  2288.,  1376.,   954.,   633.,\n",
       "          405.,   282.]),\n",
       " array([  0.,  20.,  40.,  60.,  80., 100., 120., 140., 160., 180., 200.]),\n",
       " <a list of 10 Patch objects>)"
      ]
     },
     "execution_count": 58,
     "metadata": {},
     "output_type": "execute_result"
    },
    {
     "data": {
      "image/png": "[encoded data removed]",
      "text/plain": [
       "<Figure size 432x288 with 1 Axes>"
      ]
     },
     "metadata": {
      "needs_background": "light"
     },
     "output_type": "display_data"
    }
   ],
   "source": [
    "plt.hist(data[\"len\"],range=(0,200))"
   ]
  },
  {
   "cell_type": "code",
   "execution_count": 59,
   "metadata": {
    "ExecuteTime": {
     "end_time": "2021-02-21T15:00:09.951884Z",
     "start_time": "2021-02-21T15:00:09.947145Z"
    }
   },
   "outputs": [],
   "source": [
    "max_length1 = 80\n",
    "\n",
    "trunc_type='post'\n",
    "padding_type='post'\n"
   ]
  },
  {
   "cell_type": "code",
   "execution_count": 60,
   "metadata": {
    "ExecuteTime": {
     "end_time": "2021-02-21T15:00:09.961084Z",
     "start_time": "2021-02-21T15:00:09.956006Z"
    }
   },
   "outputs": [
    {
     "data": {
      "text/plain": [
       "80"
      ]
     },
     "execution_count": 60,
     "metadata": {},
     "output_type": "execute_result"
    }
   ],
   "source": [
    "max_length1"
   ]
  },
  {
   "cell_type": "code",
   "execution_count": 61,
   "metadata": {
    "ExecuteTime": {
     "end_time": "2021-02-21T15:00:11.347119Z",
     "start_time": "2021-02-21T15:00:09.964095Z"
    }
   },
   "outputs": [],
   "source": [
    "train_sequences=tokenizer.texts_to_sequences(X_train)\n"
   ]
  },
  {
   "cell_type": "code",
   "execution_count": 62,
   "metadata": {
    "ExecuteTime": {
     "end_time": "2021-02-21T15:00:11.357923Z",
     "start_time": "2021-02-21T15:00:11.350352Z"
    }
   },
   "outputs": [
    {
     "name": "stdout",
     "output_type": "stream",
     "text": [
      "african grey two dwarf macaws perfect size whatever reason find local pet stores even though smaller larger sizes everywhere happy find seller even happier got within hours ordering parrots happy means happy absolutely order seller\n",
      "[3087, 1656, 32, 6288, 20533, 111, 102, 727, 373, 52, 388, 475, 427, 20, 87, 350, 395, 1205, 1470, 172, 52, 1325, 20, 2236, 51, 455, 289, 869, 7943, 172, 536, 172, 423, 187, 1325]\n",
      "35\n"
     ]
    }
   ],
   "source": [
    "print(X_train[0])\n",
    "print(train_sequences[0])\n",
    "print(len(train_sequences[0]))"
   ]
  },
  {
   "cell_type": "code",
   "execution_count": 63,
   "metadata": {
    "ExecuteTime": {
     "end_time": "2021-02-21T15:00:11.600072Z",
     "start_time": "2021-02-21T15:00:11.361936Z"
    }
   },
   "outputs": [
    {
     "name": "stdout",
     "output_type": "stream",
     "text": [
      "[277, 38, 385, 2708, 419, 364, 14, 64, 554, 14794, 321, 2468, 14423, 370, 16697, 11596, 591, 21845, 5277, 2420, 732, 2352, 488, 1292, 567, 614, 3264, 118, 14423, 580, 1620, 328, 1057, 1373, 43, 4315, 119, 667, 110, 383, 474, 181, 538, 1373, 722, 30749, 414, 202, 43, 314, 2, 590, 1131, 23, 3972, 752, 3148, 149, 1057, 1248, 22, 5, 1313, 2468, 14423, 737, 220, 372, 20168, 15754, 20168, 15754, 2232, 147, 50, 306, 800, 1580, 3985, 6, 756, 526, 1241, 537, 531, 1090, 950, 43, 34841, 1057, 23, 46, 177, 171, 24, 78, 730, 1729, 227, 177, 1077, 277, 264, 645, 157, 1131, 667, 590, 50, 1057, 46, 1248, 17, 2493, 1215, 149, 701, 275, 8344, 277, 14, 16, 48, 4497, 413, 2326, 104, 705, 11, 18, 2468, 14423, 4, 1057, 1061, 372, 1, 1294, 4, 590, 1131, 72, 1391, 1061, 3148, 15, 430, 1109, 8, 15713, 227, 12525, 5550, 8203, 1109, 17, 121, 140, 228, 277, 319]\n",
      "161\n"
     ]
    }
   ],
   "source": [
    "test_sequences=tokenizer.texts_to_sequences(X_test)\n",
    "print(test_sequences[0])\n",
    "print(len(test_sequences[0]))"
   ]
  },
  {
   "cell_type": "code",
   "execution_count": 65,
   "metadata": {
    "ExecuteTime": {
     "end_time": "2021-02-21T15:01:37.734028Z",
     "start_time": "2021-02-21T15:01:37.434432Z"
    }
   },
   "outputs": [],
   "source": [
    "train_padded=pad_sequences(train_sequences,maxlen=80,padding='post',truncating='post')"
   ]
  },
  {
   "cell_type": "code",
   "execution_count": 66,
   "metadata": {
    "ExecuteTime": {
     "end_time": "2021-02-21T15:01:37.850911Z",
     "start_time": "2021-02-21T15:01:37.808496Z"
    }
   },
   "outputs": [],
   "source": [
    "test_padded=pad_sequences(test_sequences,maxlen=80,padding=\"post\",truncating=\"post\")"
   ]
  },
  {
   "cell_type": "code",
   "execution_count": 67,
   "metadata": {
    "ExecuteTime": {
     "end_time": "2021-02-21T15:01:38.223985Z",
     "start_time": "2021-02-21T15:01:38.200334Z"
    }
   },
   "outputs": [],
   "source": [
    "reverse_word_index=dict([(value,key) for (key,value) in word_index.items()])"
   ]
  },
  {
   "cell_type": "code",
   "execution_count": 68,
   "metadata": {
    "ExecuteTime": {
     "end_time": "2021-02-21T15:01:38.469023Z",
     "start_time": "2021-02-21T15:01:38.464892Z"
    }
   },
   "outputs": [
    {
     "data": {
      "text/plain": [
       "'face'"
      ]
     },
     "execution_count": 68,
     "metadata": {},
     "output_type": "execute_result"
    }
   ],
   "source": [
    "reverse_word_index[101]"
   ]
  },
  {
   "cell_type": "code",
   "execution_count": 69,
   "metadata": {
    "ExecuteTime": {
     "end_time": "2021-02-21T15:01:38.824163Z",
     "start_time": "2021-02-21T15:01:38.820223Z"
    }
   },
   "outputs": [],
   "source": [
    "def decode_sentence(text):\n",
    "    return \" \".join([reverse_word_index.get(i,'?') for i in text])\n",
    "    "
   ]
  },
  {
   "cell_type": "code",
   "execution_count": 70,
   "metadata": {
    "ExecuteTime": {
     "end_time": "2021-02-21T15:01:39.415491Z",
     "start_time": "2021-02-21T15:01:39.411606Z"
    }
   },
   "outputs": [
    {
     "data": {
      "text/plain": [
       "45587"
      ]
     },
     "execution_count": 70,
     "metadata": {},
     "output_type": "execute_result"
    }
   ],
   "source": [
    "vocab_size"
   ]
  },
  {
   "cell_type": "code",
   "execution_count": 71,
   "metadata": {
    "ExecuteTime": {
     "end_time": "2021-02-21T15:01:39.891635Z",
     "start_time": "2021-02-21T15:01:39.888901Z"
    }
   },
   "outputs": [],
   "source": [
    "embedding_dim=300"
   ]
  },
  {
   "cell_type": "code",
   "execution_count": 72,
   "metadata": {
    "ExecuteTime": {
     "end_time": "2021-02-21T15:01:43.470653Z",
     "start_time": "2021-02-21T15:01:43.466758Z"
    }
   },
   "outputs": [
    {
     "data": {
      "text/plain": [
       "300"
      ]
     },
     "execution_count": 72,
     "metadata": {},
     "output_type": "execute_result"
    }
   ],
   "source": [
    "embedding_dim"
   ]
  },
  {
   "cell_type": "code",
   "execution_count": 86,
   "metadata": {
    "ExecuteTime": {
     "end_time": "2021-02-20T16:31:03.543793Z",
     "start_time": "2021-02-20T16:31:01.827862Z"
    }
   },
   "outputs": [],
   "source": [
    "lstm_model=tf.keras.Sequential([\n",
    "    tf.keras.layers.Embedding(vocab_size,embedding_dim),\n",
    "    tf.keras.layers.LSTM(128),\n",
    "#     tf.keras.layers.Dense(20,activation='relu')\n",
    "    tf.keras.layers.Dense(5,activation='softmax')\n",
    "])"
   ]
  },
  {
   "cell_type": "code",
   "execution_count": 87,
   "metadata": {
    "ExecuteTime": {
     "end_time": "2021-02-20T16:31:10.993102Z",
     "start_time": "2021-02-20T16:31:10.934353Z"
    }
   },
   "outputs": [
    {
     "name": "stdout",
     "output_type": "stream",
     "text": [
      "Model: \"sequential\"\n",
      "_________________________________________________________________\n",
      "Layer (type)                 Output Shape              Param #   \n",
      "=================================================================\n",
      "embedding (Embedding)        (None, None, 300)         13676100  \n",
      "_________________________________________________________________\n",
      "lstm (LSTM)                  (None, 128)               219648    \n",
      "_________________________________________________________________\n",
      "dense (Dense)                (None, 5)                 645       \n",
      "=================================================================\n",
      "Total params: 13,896,393\n",
      "Trainable params: 13,896,393\n",
      "Non-trainable params: 0\n",
      "_________________________________________________________________\n"
     ]
    }
   ],
   "source": [
    "lstm_model.summary()"
   ]
  },
  {
   "cell_type": "code",
   "execution_count": 89,
   "metadata": {
    "ExecuteTime": {
     "end_time": "2021-02-20T17:20:50.374381Z",
     "start_time": "2021-02-20T16:35:26.797465Z"
    }
   },
   "outputs": [
    {
     "name": "stdout",
     "output_type": "stream",
     "text": [
      "Epoch 1/5\n",
      "1407/1407 - 601s - loss: 0.5450 - accuracy: 0.7892 - val_loss: 0.3975 - val_accuracy: 0.8739\n",
      "Epoch 2/5\n",
      "1407/1407 - 538s - loss: 0.2133 - accuracy: 0.9316 - val_loss: 0.3824 - val_accuracy: 0.8823\n",
      "Epoch 3/5\n",
      "1407/1407 - 531s - loss: 0.1829 - accuracy: 0.9409 - val_loss: 0.4068 - val_accuracy: 0.8751\n",
      "Epoch 4/5\n",
      "1407/1407 - 528s - loss: 0.1663 - accuracy: 0.9468 - val_loss: 0.3756 - val_accuracy: 0.8885\n",
      "Epoch 5/5\n",
      "1407/1407 - 518s - loss: 0.1499 - accuracy: 0.9523 - val_loss: 0.4010 - val_accuracy: 0.8793\n"
     ]
    }
   ],
   "source": [
    "opt=tf.keras.optimizers.Adam(0.01)\n",
    "lstm_model.compile(loss='sparse_categorical_crossentropy',optimizer=opt,metrics=['accuracy'])\n",
    "num_epochs=5\n",
    "history=lstm_model.fit(train_padded,y_train,epochs=num_epochs,validation_data=(test_padded,y_test),verbose=2)"
   ]
  },
  {
   "cell_type": "code",
   "execution_count": 96,
   "metadata": {
    "ExecuteTime": {
     "end_time": "2021-02-20T21:03:38.542467Z",
     "start_time": "2021-02-20T21:03:37.214706Z"
    }
   },
   "outputs": [],
   "source": [
    "lstm_model.save(\"lstm_model.h5\")"
   ]
  },
  {
   "cell_type": "code",
   "execution_count": 91,
   "metadata": {
    "ExecuteTime": {
     "end_time": "2021-02-20T18:42:21.987657Z",
     "start_time": "2021-02-20T18:42:21.389636Z"
    }
   },
   "outputs": [],
   "source": [
    "lstm_model2=tf.keras.Sequential([\n",
    "    tf.keras.layers.Embedding(vocab_size,embedding_dim),\n",
    "    tf.keras.layers.LSTM(128),\n",
    "    tf.keras.layers.Dense(20,activation='relu'),\n",
    "    tf.keras.layers.Dense(5,activation='softmax')\n",
    "])"
   ]
  },
  {
   "cell_type": "code",
   "execution_count": 92,
   "metadata": {
    "ExecuteTime": {
     "end_time": "2021-02-20T19:26:44.032118Z",
     "start_time": "2021-02-20T18:42:41.897445Z"
    }
   },
   "outputs": [
    {
     "name": "stdout",
     "output_type": "stream",
     "text": [
      "Epoch 1/5\n",
      "1407/1407 - 535s - loss: 1.6116 - accuracy: 0.1997 - val_loss: 1.6074 - val_accuracy: 0.2119\n",
      "Epoch 2/5\n",
      "1407/1407 - 515s - loss: 1.6108 - accuracy: 0.1986 - val_loss: 1.6087 - val_accuracy: 0.2033\n",
      "Epoch 3/5\n",
      "1407/1407 - 525s - loss: 1.5772 - accuracy: 0.2355 - val_loss: 1.4152 - val_accuracy: 0.3142\n",
      "Epoch 4/5\n",
      "1407/1407 - 526s - loss: 1.2407 - accuracy: 0.3747 - val_loss: 1.1708 - val_accuracy: 0.4579\n",
      "Epoch 5/5\n",
      "1407/1407 - 531s - loss: 1.0971 - accuracy: 0.4597 - val_loss: 1.1206 - val_accuracy: 0.4775\n"
     ]
    }
   ],
   "source": [
    "opt=tf.keras.optimizers.Adam(0.01)\n",
    "lstm_model2.compile(loss='sparse_categorical_crossentropy',optimizer=opt,metrics=['accuracy'])\n",
    "num_epochs=5\n",
    "history=lstm_model2.fit(train_padded,y_train,epochs=num_epochs,validation_data=(test_padded,y_test),verbose=2)"
   ]
  },
  {
   "cell_type": "code",
   "execution_count": null,
   "metadata": {},
   "outputs": [],
   "source": []
  },
  {
   "cell_type": "code",
   "execution_count": 94,
   "metadata": {
    "ExecuteTime": {
     "end_time": "2021-02-20T20:14:03.416293Z",
     "start_time": "2021-02-20T20:14:02.006119Z"
    }
   },
   "outputs": [],
   "source": [
    "bidirectionallstm_model=tf.keras.Sequential([\n",
    "    tf.keras.layers.Embedding(vocab_size,embedding_dim),\n",
    "    tf.keras.layers.Bidirectional(tf.keras.layers.LSTM(128)),\n",
    "#     tf.keras.layers.Dense(20,activation='relu')\n",
    "    tf.keras.layers.Dense(5,activation='softmax')\n",
    "])"
   ]
  },
  {
   "cell_type": "code",
   "execution_count": 95,
   "metadata": {
    "ExecuteTime": {
     "end_time": "2021-02-20T21:03:37.192216Z",
     "start_time": "2021-02-20T20:14:08.377374Z"
    }
   },
   "outputs": [
    {
     "name": "stdout",
     "output_type": "stream",
     "text": [
      "Epoch 1/5\n",
      "1407/1407 - 541s - loss: 0.2720 - accuracy: 0.9135 - val_loss: 0.3178 - val_accuracy: 0.9086\n",
      "Epoch 2/5\n",
      "1407/1407 - 523s - loss: 0.1461 - accuracy: 0.9542 - val_loss: 0.3805 - val_accuracy: 0.8913\n",
      "Epoch 3/5\n",
      "1407/1407 - 628s - loss: 0.1371 - accuracy: 0.9575 - val_loss: 0.4076 - val_accuracy: 0.8941\n",
      "Epoch 4/5\n",
      "1407/1407 - 619s - loss: 0.1337 - accuracy: 0.9585 - val_loss: 0.4170 - val_accuracy: 0.8889\n",
      "Epoch 5/5\n",
      "1407/1407 - 647s - loss: 0.1209 - accuracy: 0.9616 - val_loss: 0.4323 - val_accuracy: 0.8955\n"
     ]
    }
   ],
   "source": [
    "opt=tf.keras.optimizers.Adam(0.01)\n",
    "bidirectionallstm_model.compile(loss='sparse_categorical_crossentropy',optimizer=opt,metrics=['accuracy'])\n",
    "num_epochs=5\n",
    "history=bidirectionallstm_model.fit(train_padded,y_train,epochs=num_epochs,validation_data=(test_padded,y_test),verbose=2)"
   ]
  },
  {
   "cell_type": "code",
   "execution_count": null,
   "metadata": {},
   "outputs": [],
   "source": [
    "bidirectionallstm_model.save(\"bilstm_model.h5\")"
   ]
  },
  {
   "cell_type": "code",
   "execution_count": 1,
   "metadata": {
    "ExecuteTime": {
     "end_time": "2021-02-26T03:05:37.855134Z",
     "start_time": "2021-02-26T03:05:37.755503Z"
    }
   },
   "outputs": [
    {
     "ename": "NameError",
     "evalue": "name 'tokenizer' is not defined",
     "output_type": "error",
     "traceback": [
      "\u001b[0;31m---------------------------------------------------------------------------\u001b[0m",
      "\u001b[0;31mNameError\u001b[0m                                 Traceback (most recent call last)",
      "\u001b[0;32m<ipython-input-1-6dd8af64d20b>\u001b[0m in \u001b[0;36m<module>\u001b[0;34m\u001b[0m\n\u001b[1;32m      2\u001b[0m \u001b[0;34m\u001b[0m\u001b[0m\n\u001b[1;32m      3\u001b[0m \u001b[0;32mwith\u001b[0m \u001b[0mopen\u001b[0m\u001b[0;34m(\u001b[0m\u001b[0;34m'tokenizer.pickle'\u001b[0m\u001b[0;34m,\u001b[0m \u001b[0;34m'wb'\u001b[0m\u001b[0;34m)\u001b[0m \u001b[0;32mas\u001b[0m \u001b[0mhandle\u001b[0m\u001b[0;34m:\u001b[0m\u001b[0;34m\u001b[0m\u001b[0;34m\u001b[0m\u001b[0m\n\u001b[0;32m----> 4\u001b[0;31m     \u001b[0mpickle\u001b[0m\u001b[0;34m.\u001b[0m\u001b[0mdump\u001b[0m\u001b[0;34m(\u001b[0m\u001b[0mtokenizer\u001b[0m\u001b[0;34m,\u001b[0m \u001b[0mhandle\u001b[0m\u001b[0;34m,\u001b[0m \u001b[0mprotocol\u001b[0m\u001b[0;34m=\u001b[0m\u001b[0mpickle\u001b[0m\u001b[0;34m.\u001b[0m\u001b[0mHIGHEST_PROTOCOL\u001b[0m\u001b[0;34m)\u001b[0m\u001b[0;34m\u001b[0m\u001b[0;34m\u001b[0m\u001b[0m\n\u001b[0m",
      "\u001b[0;31mNameError\u001b[0m: name 'tokenizer' is not defined"
     ]
    }
   ],
   "source": [
    "import pickle\n",
    "\n",
    "with open('tokenizer.pickle', 'wb') as handle:\n",
    "    pickle.dump(tokenizer, handle, protocol=pickle.HIGHEST_PROTOCOL)"
   ]
  },
  {
   "cell_type": "code",
   "execution_count": 11,
   "metadata": {
    "ExecuteTime": {
     "end_time": "2021-02-26T03:09:07.680185Z",
     "start_time": "2021-02-26T03:09:07.636886Z"
    }
   },
   "outputs": [],
   "source": [
    "with open('/Users/harika/Desktop/NLP_FLASK_APP/models/tokenizer.pickle','rb') as handle:\n",
    "    loaded_tokenizer=pickle.load(handle)"
   ]
  },
  {
   "cell_type": "code",
   "execution_count": 12,
   "metadata": {
    "ExecuteTime": {
     "end_time": "2021-02-26T03:09:12.809652Z",
     "start_time": "2021-02-26T03:09:11.941050Z"
    }
   },
   "outputs": [],
   "source": [
    "new_model=tf.keras.models.load_model(\"./bilstm_model.h5\")"
   ]
  },
  {
   "cell_type": "code",
   "execution_count": 77,
   "metadata": {
    "ExecuteTime": {
     "end_time": "2021-02-21T15:04:35.271787Z",
     "start_time": "2021-02-21T15:04:35.267319Z"
    }
   },
   "outputs": [
    {
     "name": "stdout",
     "output_type": "stream",
     "text": [
      "Model: \"sequential_2\"\n",
      "_________________________________________________________________\n",
      "Layer (type)                 Output Shape              Param #   \n",
      "=================================================================\n",
      "embedding_3 (Embedding)      (None, None, 300)         13676100  \n",
      "_________________________________________________________________\n",
      "bidirectional (Bidirectional (None, 256)               439296    \n",
      "_________________________________________________________________\n",
      "dense_3 (Dense)              (None, 5)                 1285      \n",
      "=================================================================\n",
      "Total params: 14,116,681\n",
      "Trainable params: 14,116,681\n",
      "Non-trainable params: 0\n",
      "_________________________________________________________________\n"
     ]
    }
   ],
   "source": [
    "new_model.summary()"
   ]
  },
  {
   "cell_type": "code",
   "execution_count": 17,
   "metadata": {
    "ExecuteTime": {
     "end_time": "2021-02-26T03:10:45.281851Z",
     "start_time": "2021-02-26T03:10:44.499355Z"
    }
   },
   "outputs": [
    {
     "name": "stdout",
     "output_type": "stream",
     "text": [
      "[[4.3457326e-06 9.9989617e-01 8.6885484e-05 8.8074676e-06 3.8632879e-06]] grocery\n"
     ]
    }
   ],
   "source": [
    "txt={\"tea real delight big fan white tea one best varieties tried flavor subtle overpowering get nice peach flavor sweet yet bitter still taste light flavor smooth white tea celestial seasonings imperial white peach white tea one favorite teas see going back time time really pleasant definitely recommend especially love white tea\"}\n",
    "seq=loaded_tokenizer.texts_to_sequences(txt)\n",
    "padded=pad_sequences(seq,maxlen=80,padding=\"post\",truncating=\"post\")\n",
    "pred=new_model.predict(padded) # output [ 5 values  for each class and label number]\n",
    "category_labels={\"beauty\":0,\"grocery\":1,\"office\":2,\"pet\":3,\"toy\":4}\n",
    "labels=list(category_labels.keys())\n",
    "\n",
    "print(pred,labels[np.argmax(pred)])\n"
   ]
  },
  {
   "cell_type": "code",
   "execution_count": 18,
   "metadata": {
    "ExecuteTime": {
     "end_time": "2021-02-26T03:10:47.639211Z",
     "start_time": "2021-02-26T03:10:47.588891Z"
    }
   },
   "outputs": [
    {
     "name": "stdout",
     "output_type": "stream",
     "text": [
      "WARNING:tensorflow:From <ipython-input-18-1203b983a66f>:1: Sequential.predict_classes (from tensorflow.python.keras.engine.sequential) is deprecated and will be removed after 2021-01-01.\n",
      "Instructions for updating:\n",
      "Please use instead:* `np.argmax(model.predict(x), axis=-1)`,   if your model does multi-class classification   (e.g. if it uses a `softmax` last-layer activation).* `(model.predict(x) > 0.5).astype(\"int32\")`,   if your model does binary classification   (e.g. if it uses a `sigmoid` last-layer activation).\n"
     ]
    },
    {
     "data": {
      "text/plain": [
       "'grocery'"
      ]
     },
     "execution_count": 18,
     "metadata": {},
     "output_type": "execute_result"
    }
   ],
   "source": [
    "labels[new_model.predict_classes(padded)[0]]"
   ]
  },
  {
   "cell_type": "code",
   "execution_count": 89,
   "metadata": {
    "ExecuteTime": {
     "end_time": "2021-02-21T15:09:36.025280Z",
     "start_time": "2021-02-21T15:09:36.021047Z"
    }
   },
   "outputs": [
    {
     "data": {
      "text/plain": [
       "0.99989617"
      ]
     },
     "execution_count": 89,
     "metadata": {},
     "output_type": "execute_result"
    }
   ],
   "source": [
    "np.max(pred)"
   ]
  },
  {
   "cell_type": "code",
   "execution_count": 90,
   "metadata": {
    "ExecuteTime": {
     "end_time": "2021-02-21T15:09:47.175984Z",
     "start_time": "2021-02-21T15:09:47.172319Z"
    }
   },
   "outputs": [
    {
     "data": {
      "text/plain": [
       "1"
      ]
     },
     "execution_count": 90,
     "metadata": {},
     "output_type": "execute_result"
    }
   ],
   "source": [
    "np.argmax(pred)"
   ]
  },
  {
   "cell_type": "code",
   "execution_count": 96,
   "metadata": {
    "ExecuteTime": {
     "end_time": "2021-02-21T15:12:09.129145Z",
     "start_time": "2021-02-21T15:12:09.125444Z"
    }
   },
   "outputs": [
    {
     "data": {
      "text/plain": [
       "['beauty', 'grocery', 'office', 'pet', 'toy']"
      ]
     },
     "execution_count": 96,
     "metadata": {},
     "output_type": "execute_result"
    }
   ],
   "source": [
    "labels"
   ]
  },
  {
   "cell_type": "code",
   "execution_count": 95,
   "metadata": {
    "ExecuteTime": {
     "end_time": "2021-02-21T15:11:21.890002Z",
     "start_time": "2021-02-21T15:11:21.885769Z"
    }
   },
   "outputs": [
    {
     "data": {
      "text/plain": [
       "'grocery'"
      ]
     },
     "execution_count": 95,
     "metadata": {},
     "output_type": "execute_result"
    }
   ],
   "source": [
    "labels[np.argmax(pred)]"
   ]
  },
  {
   "cell_type": "code",
   "execution_count": 91,
   "metadata": {
    "ExecuteTime": {
     "end_time": "2021-02-21T15:09:57.792948Z",
     "start_time": "2021-02-21T15:09:57.788966Z"
    }
   },
   "outputs": [
    {
     "data": {
      "text/plain": [
       "array([[4.3457326e-06, 9.9989617e-01, 8.6885484e-05, 8.8074676e-06,\n",
       "        3.8632879e-06]], dtype=float32)"
      ]
     },
     "execution_count": 91,
     "metadata": {},
     "output_type": "execute_result"
    }
   ],
   "source": [
    "pred"
   ]
  },
  {
   "cell_type": "code",
   "execution_count": 87,
   "metadata": {
    "ExecuteTime": {
     "end_time": "2021-02-21T15:09:08.001062Z",
     "start_time": "2021-02-21T15:09:07.996567Z"
    }
   },
   "outputs": [
    {
     "data": {
      "text/plain": [
       "Decimal('0.0004345732600000000263513501297')"
      ]
     },
     "execution_count": 87,
     "metadata": {},
     "output_type": "execute_result"
    }
   ],
   "source": [
    "from decimal import *\n",
    "Decimal(4.3457326e-06)*100"
   ]
  },
  {
   "cell_type": "code",
   "execution_count": 98,
   "metadata": {
    "ExecuteTime": {
     "end_time": "2021-02-20T21:03:40.790275Z",
     "start_time": "2021-02-20T21:03:39.211675Z"
    }
   },
   "outputs": [
    {
     "data": {
      "image/png": "[encoded data removed]",
      "text/plain": [
       "<Figure size 864x360 with 2 Axes>"
      ]
     },
     "metadata": {
      "needs_background": "light"
     },
     "output_type": "display_data"
    }
   ],
   "source": [
    "plt.figure(figsize=(12,5))\n",
    "plt.subplot(121)\n",
    "plt.plot(history.history['loss'])\n",
    "plt.plot(history.history['val_loss'])\n",
    "plt.xlabel('Epochs')\n",
    "plt.ylabel('loss')\n",
    "plt.legend(['train loss','test loss'])\n",
    "plt.subplot(122)\n",
    "plt.plot(history.history[\"accuracy\"])\n",
    "plt.plot(history.history['val_accuracy'])\n",
    "plt.xlabel('Epochs')\n",
    "plt.ylabel('Accuracy')\n",
    "plt.legend(['train_accuracy','test accuracy'])\n",
    "plt.show();"
   ]
  },
  {
   "cell_type": "code",
   "execution_count": 101,
   "metadata": {
    "ExecuteTime": {
     "end_time": "2021-02-20T21:48:15.987199Z",
     "start_time": "2021-02-20T21:05:32.760848Z"
    }
   },
   "outputs": [
    {
     "name": "stdout",
     "output_type": "stream",
     "text": [
      "Epoch 1/5\n",
      "1407/1407 - 581s - loss: 0.2610 - accuracy: 0.9164 - val_loss: 0.2996 - val_accuracy: 0.9048\n",
      "Epoch 2/5\n",
      "1407/1407 - 482s - loss: 0.1310 - accuracy: 0.9586 - val_loss: 0.3782 - val_accuracy: 0.8933\n",
      "Epoch 3/5\n",
      "1407/1407 - 502s - loss: 0.1151 - accuracy: 0.9632 - val_loss: 0.3996 - val_accuracy: 0.8957\n",
      "Epoch 4/5\n",
      "1407/1407 - 484s - loss: 0.1084 - accuracy: 0.9662 - val_loss: 0.4069 - val_accuracy: 0.8901\n",
      "Epoch 5/5\n",
      "1407/1407 - 497s - loss: 0.0964 - accuracy: 0.9694 - val_loss: 0.4113 - val_accuracy: 0.8951\n"
     ]
    }
   ],
   "source": [
    "bidirectional_lstm2=tf.keras.Sequential([\n",
    "    tf.keras.layers.Embedding(vocab_size,embedding_dim),\n",
    "    tf.keras.layers.Bidirectional(tf.keras.layers.LSTM(64)),\n",
    "#     tf.keras.layers.Dense(20,activation='relu')\n",
    "    tf.keras.layers.Dense(5,activation='softmax')\n",
    "])\n",
    "callback = tf.keras.callbacks.EarlyStopping(monitor='loss', patience=3)\n",
    "opt=tf.keras.optimizers.Adam(0.01)\n",
    "bidirectional_lstm2.compile(loss='sparse_categorical_crossentropy',optimizer=opt,metrics=['accuracy'])\n",
    "\n",
    "history_bilstm = bidirectional_lstm2.fit(train_padded,y_train,epochs=5,validation_data=(test_padded,y_test),callbacks=[callback],verbose=2)"
   ]
  },
  {
   "cell_type": "code",
   "execution_count": 102,
   "metadata": {
    "ExecuteTime": {
     "end_time": "2021-02-20T21:48:17.537301Z",
     "start_time": "2021-02-20T21:48:15.998604Z"
    }
   },
   "outputs": [
    {
     "data": {
      "image/png": "[encoded data removed]",
      "text/plain": [
       "<Figure size 864x360 with 2 Axes>"
      ]
     },
     "metadata": {
      "needs_background": "light"
     },
     "output_type": "display_data"
    }
   ],
   "source": [
    "plt.figure(figsize=(12,5))\n",
    "plt.subplot(121)\n",
    "plt.plot(history_bilstm.history['loss'])\n",
    "plt.plot(history_bilstm.history['val_loss'])\n",
    "plt.xlabel('Epochs')\n",
    "plt.ylabel('loss')\n",
    "plt.legend(['train loss','test loss'])\n",
    "plt.subplot(122)\n",
    "plt.plot(history_bilstm.history[\"accuracy\"])\n",
    "plt.plot(history_bilstm.history['val_accuracy'])\n",
    "plt.xlabel('Epochs')\n",
    "plt.ylabel('Accuracy')\n",
    "plt.legend(['train_accuracy','test accuracy'])\n",
    "plt.show();"
   ]
  },
  {
   "cell_type": "code",
   "execution_count": 3,
   "metadata": {
    "ExecuteTime": {
     "end_time": "2021-02-21T14:57:40.939456Z",
     "start_time": "2021-02-21T14:57:40.928974Z"
    }
   },
   "outputs": [
    {
     "ename": "NameError",
     "evalue": "name 'tokenizer' is not defined",
     "output_type": "error",
     "traceback": [
      "\u001b[0;31m---------------------------------------------------------------------------\u001b[0m",
      "\u001b[0;31mNameError\u001b[0m                                 Traceback (most recent call last)",
      "\u001b[0;32m<ipython-input-3-6dd8af64d20b>\u001b[0m in \u001b[0;36m<module>\u001b[0;34m\u001b[0m\n\u001b[1;32m      2\u001b[0m \u001b[0;34m\u001b[0m\u001b[0m\n\u001b[1;32m      3\u001b[0m \u001b[0;32mwith\u001b[0m \u001b[0mopen\u001b[0m\u001b[0;34m(\u001b[0m\u001b[0;34m'tokenizer.pickle'\u001b[0m\u001b[0;34m,\u001b[0m \u001b[0;34m'wb'\u001b[0m\u001b[0;34m)\u001b[0m \u001b[0;32mas\u001b[0m \u001b[0mhandle\u001b[0m\u001b[0;34m:\u001b[0m\u001b[0;34m\u001b[0m\u001b[0;34m\u001b[0m\u001b[0m\n\u001b[0;32m----> 4\u001b[0;31m     \u001b[0mpickle\u001b[0m\u001b[0;34m.\u001b[0m\u001b[0mdump\u001b[0m\u001b[0;34m(\u001b[0m\u001b[0mtokenizer\u001b[0m\u001b[0;34m,\u001b[0m \u001b[0mhandle\u001b[0m\u001b[0;34m,\u001b[0m \u001b[0mprotocol\u001b[0m\u001b[0;34m=\u001b[0m\u001b[0mpickle\u001b[0m\u001b[0;34m.\u001b[0m\u001b[0mHIGHEST_PROTOCOL\u001b[0m\u001b[0;34m)\u001b[0m\u001b[0;34m\u001b[0m\u001b[0;34m\u001b[0m\u001b[0m\n\u001b[0m",
      "\u001b[0;31mNameError\u001b[0m: name 'tokenizer' is not defined"
     ]
    }
   ],
   "source": []
  },
  {
   "cell_type": "code",
   "execution_count": null,
   "metadata": {},
   "outputs": [],
   "source": []
  }
 ],
 "metadata": {
  "kernelspec": {
   "display_name": "Python 3.7.7 64-bit ('rec_sys': conda)",
   "language": "python",
   "name": "python37764bitrecsysconda33c625ed33b24c0c8b9f3a8f8ff4cc60"
  },
  "language_info": {
   "codemirror_mode": {
    "name": "ipython",
    "version": 3
   },
   "file_extension": ".py",
   "mimetype": "text/x-python",
   "name": "python",
   "nbconvert_exporter": "python",
   "pygments_lexer": "ipython3",
   "version": "3.7.7"
  }
 },
 "nbformat": 4,
 "nbformat_minor": 4
}
